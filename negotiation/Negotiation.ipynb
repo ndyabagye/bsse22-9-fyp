{
 "cells": [
  {
   "cell_type": "code",
   "execution_count": 1,
   "metadata": {},
   "outputs": [],
   "source": [
    "def negotiate(fraction, old_offer, asking_price, last_price):\n",
    "    bargain = old_offer - ((old_offer - asking_price) * fraction)\n",
    "    if (last_price < bargain):\n",
    "        bargain = last_price\n",
    "    return round(bargain, -2)"
   ]
  },
  {
   "cell_type": "code",
   "execution_count": 1,
   "metadata": {},
   "outputs": [
    {
     "ename": "NameError",
     "evalue": "name 'negotiate' is not defined",
     "output_type": "error",
     "traceback": [
      "\u001b[0;31m---------------------------------------------------------------------------\u001b[0m",
      "\u001b[0;31mNameError\u001b[0m                                 Traceback (most recent call last)",
      "\u001b[1;32m/home/ducky/Projects/FYP/bsse22-9-fyp/negotiation/Negotiation.ipynb Cell 2\u001b[0m in \u001b[0;36m<cell line: 7>\u001b[0;34m()\u001b[0m\n\u001b[1;32m     <a href='vscode-notebook-cell:/home/ducky/Projects/FYP/bsse22-9-fyp/negotiation/Negotiation.ipynb#ch0000001?line=9'>10</a>\u001b[0m \u001b[39mif\u001b[39;00m (asking_price \u001b[39m>\u001b[39m last_price):\n\u001b[1;32m     <a href='vscode-notebook-cell:/home/ducky/Projects/FYP/bsse22-9-fyp/negotiation/Negotiation.ipynb#ch0000001?line=10'>11</a>\u001b[0m     fraction_list \u001b[39m=\u001b[39m [\u001b[39m0\u001b[39m, \u001b[39m1\u001b[39m\u001b[39m/\u001b[39m\u001b[39m3\u001b[39m, \u001b[39m2\u001b[39m\u001b[39m/\u001b[39m\u001b[39m3\u001b[39m]\n\u001b[0;32m---> <a href='vscode-notebook-cell:/home/ducky/Projects/FYP/bsse22-9-fyp/negotiation/Negotiation.ipynb#ch0000001?line=11'>12</a>\u001b[0m     display_value \u001b[39m=\u001b[39m negotiate(random\u001b[39m.\u001b[39mchoice(fraction_list), display_value, asking_price)\n\u001b[1;32m     <a href='vscode-notebook-cell:/home/ducky/Projects/FYP/bsse22-9-fyp/negotiation/Negotiation.ipynb#ch0000001?line=12'>13</a>\u001b[0m     \u001b[39mprint\u001b[39m(\u001b[39m\"\u001b[39m\u001b[39mI can only do \u001b[39m\u001b[39m\"\u001b[39m,display_value)\n\u001b[1;32m     <a href='vscode-notebook-cell:/home/ducky/Projects/FYP/bsse22-9-fyp/negotiation/Negotiation.ipynb#ch0000001?line=13'>14</a>\u001b[0m     new_asking_price \u001b[39m=\u001b[39m \u001b[39mfloat\u001b[39m(\u001b[39minput\u001b[39m(\u001b[39m\"\u001b[39m\u001b[39mEnter asking price: \u001b[39m\u001b[39m\"\u001b[39m))\n",
      "\u001b[0;31mNameError\u001b[0m: name 'negotiate' is not defined"
     ]
    }
   ],
   "source": [
    "import random\n",
    "\n",
    "display_value = float(input(\"Enter displayed value: \"))\n",
    "last_price = float(input(\"Enter last price: \"))\n",
    "asking_price = float(input(\"Enter asking price: \"))\n",
    "\n",
    "if (display_value <= asking_price):\n",
    "    print(\"Deal!\")\n",
    "elif (display_value > asking_price):\n",
    "    if (asking_price > last_price):\n",
    "        fraction_list = [0, 1/3, 2/3]\n",
    "        display_value = negotiate(random.choice(fraction_list), display_value, asking_price)\n",
    "        print(\"I can only do \",display_value)\n",
    "        new_asking_price = float(input(\"Enter asking price: \"))\n",
    "        if(new_asking_price > asking_price):\n",
    "            if(new_asking_price >= display_value):\n",
    "                print(\"Deal!\")\n",
    "            asking_price = new_asking_price\n",
    "        elif(new_asking_price == asking_price):\n",
    "            print(\"I told you to add some more money!\")\n",
    "        else:\n",
    "            print(\"No can't a lower price than your previous offer...impossible!\")\n",
    "    else:\n",
    "        print(\"That's too low\")\n",
    "else:\n",
    "    print(\"No deal!\")\n",
    "    \n",
    "\n",
    "\n",
    "\n",
    "        "
   ]
  },
  {
   "cell_type": "code",
   "execution_count": null,
   "metadata": {},
   "outputs": [],
   "source": []
  }
 ],
 "metadata": {
  "kernelspec": {
   "display_name": "Python 3.8.10 ('fyp-venv')",
   "language": "python",
   "name": "python3"
  },
  "language_info": {
   "codemirror_mode": {
    "name": "ipython",
    "version": 3
   },
   "file_extension": ".py",
   "mimetype": "text/x-python",
   "name": "python",
   "nbconvert_exporter": "python",
   "pygments_lexer": "ipython3",
   "version": "3.8.10"
  },
  "orig_nbformat": 4,
  "vscode": {
   "interpreter": {
    "hash": "7e97b49c3e29020e9212b97c41a733e144becaaf7110a8ad14f04eda5bfaf5ff"
   }
  }
 },
 "nbformat": 4,
 "nbformat_minor": 2
}
