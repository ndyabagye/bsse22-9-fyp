{
 "cells": [
  {
   "cell_type": "code",
   "execution_count": 1,
   "metadata": {},
   "outputs": [],
   "source": [
    "def negotiate(fraction, old_offer, asking_price):\n",
    "    bargain = old_offer - ((old_offer - asking_price) * fraction)\n",
    "    return round(bargain, -2)"
   ]
  },
  {
   "cell_type": "code",
   "execution_count": 4,
   "metadata": {},
   "outputs": [
    {
     "name": "stdout",
     "output_type": "stream",
     "text": [
      "I can only do  86700.0\n",
      "I can only do  85600.0\n",
      "I can only do  85600.0\n",
      "I can only do  83700.0\n",
      "I can only do  83700.0\n"
     ]
    }
   ],
   "source": [
    "import random\n",
    "\n",
    "display_value = float(input(\"Enter displayed value: \"))\n",
    "last_price = float(input(\"Enter last price: \"))\n",
    "asking_price = float(input(\"Enter asking price: \"))\n",
    "\n",
    "# random_number = random.randint(0, 6)\n",
    "\n",
    "if (display_value < asking_price):\n",
    "    print(\"Deal!\")\n",
    "elif (display_value >= asking_price and asking_price > last_price):\n",
    "    fraction_list = [0, 1/3, 2/3]\n",
    "    for i in range(5):\n",
    "        display_value = negotiate(random.choice(fraction_list), display_value, asking_price)\n",
    "        print(\"I can only do \",display_value)\n",
    "        asking_price = float(input(\"Enter asking price: \"))\n",
    "else:\n",
    "    print(\"No deal!\")\n",
    "    \n",
    "\n",
    "\n",
    "\n",
    "        "
   ]
  },
  {
   "cell_type": "code",
   "execution_count": null,
   "metadata": {},
   "outputs": [],
   "source": []
  }
 ],
 "metadata": {
  "kernelspec": {
   "display_name": "Python 3.8.10 ('fyp-venv')",
   "language": "python",
   "name": "python3"
  },
  "language_info": {
   "codemirror_mode": {
    "name": "ipython",
    "version": 3
   },
   "file_extension": ".py",
   "mimetype": "text/x-python",
   "name": "python",
   "nbconvert_exporter": "python",
   "pygments_lexer": "ipython3",
   "version": "3.8.10"
  },
  "orig_nbformat": 4,
  "vscode": {
   "interpreter": {
    "hash": "7e97b49c3e29020e9212b97c41a733e144becaaf7110a8ad14f04eda5bfaf5ff"
   }
  }
 },
 "nbformat": 4,
 "nbformat_minor": 2
}
