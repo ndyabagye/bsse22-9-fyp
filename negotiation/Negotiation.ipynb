{
 "cells": [
  {
   "cell_type": "code",
   "execution_count": 5,
   "metadata": {},
   "outputs": [],
   "source": [
    "def negotiate(fraction, old_offer, asking_price, old_price):\n",
    "    if (asking_price <= old_price):\n",
    "        print(\"You can't lower your offer\")\n",
    "        return old_offer\n",
    "    else:\n",
    "        bargain = old_offer - ((old_offer - asking_price) * fraction)\n",
    "        return round(bargain, -2)"
   ]
  },
  {
   "cell_type": "code",
   "execution_count": 6,
   "metadata": {},
   "outputs": [
    {
     "name": "stdout",
     "output_type": "stream",
     "text": [
      "I can only do....  100000.0 ugx\n",
      "You can't lower your offer\n",
      "I can only do....  100000.0 ugx\n",
      "I can only do....  81300.0 ugx\n",
      "Deal!\n"
     ]
    }
   ],
   "source": [
    "import random\n",
    "\n",
    "display_value = 100000\n",
    "last_price = 70000\n",
    "asking_price = 0\n",
    "\n",
    "while(1):\n",
    "    old_price = asking_price\n",
    "    asking_price = float(input(\"What is the asking price? \"))\n",
    "\n",
    "    if (display_value <= asking_price):\n",
    "        print(\"Deal!\")\n",
    "        break\n",
    "    elif (display_value > asking_price):\n",
    "        if(asking_price >= last_price):\n",
    "            fraction_list = [0, 1/3, 2/3]\n",
    "            display_value = negotiate(random.choice(fraction_list), display_value, asking_price, old_price)\n",
    "            print(\"I can only do.... \",display_value,\"ugx\")\n",
    "            deal = input(\"Deal or No deal? \")\n",
    "            if(deal == \"Deal\"):\n",
    "                print(\"Deal!\")\n",
    "                break\n",
    "            else:\n",
    "                continue\n",
    "        else:\n",
    "            print(\"You can't enter a lower price than the last one!\")\n",
    "    else:\n",
    "        print(\"No deal!\")\n",
    "        break\n",
    "    "
   ]
  },
  {
   "cell_type": "code",
   "execution_count": 6,
   "metadata": {},
   "outputs": [
    {
     "data": {
      "text/plain": [
       "['5000', '5000']"
      ]
     },
     "execution_count": 6,
     "metadata": {},
     "output_type": "execute_result"
    }
   ],
   "source": [
    "import re\n",
    "\n",
    "re.findall(r'\\d+', \"I have only 5000ugx 5000\")"
   ]
  }
 ],
 "metadata": {
  "kernelspec": {
   "display_name": "Python 3.8.10 ('fyp-venv')",
   "language": "python",
   "name": "python3"
  },
  "language_info": {
   "codemirror_mode": {
    "name": "ipython",
    "version": 3
   },
   "file_extension": ".py",
   "mimetype": "text/x-python",
   "name": "python",
   "nbconvert_exporter": "python",
   "pygments_lexer": "ipython3",
   "version": "3.10.4"
  },
  "orig_nbformat": 4,
  "vscode": {
   "interpreter": {
    "hash": "7e97b49c3e29020e9212b97c41a733e144becaaf7110a8ad14f04eda5bfaf5ff"
   }
  }
 },
 "nbformat": 4,
 "nbformat_minor": 2
}
